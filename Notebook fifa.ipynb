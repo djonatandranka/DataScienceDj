{
 "cells": [
  {
   "cell_type": "markdown",
   "metadata": {},
   "source": [
    "# **Import libraries and Connecting to the Database**"
   ]
  },
  {
   "cell_type": "code",
   "execution_count": 20,
   "metadata": {
    "azdata_cell_guid": "3cf5efaf-96a8-4408-89a7-9c796321c6ac",
    "tags": []
   },
   "outputs": [],
   "source": [
    "import matplotlib.pyplot as plt \n",
    "import pandas as pd\n",
    "import pyodbc\n",
    "import seaborn as sns\n",
    "import scipy.stats as stats"
   ]
  },
  {
   "cell_type": "markdown",
   "metadata": {},
   "source": [
    "**Connect to the sql server database**"
   ]
  },
  {
   "cell_type": "code",
   "execution_count": 21,
   "metadata": {
    "azdata_cell_guid": "cdad4bda-8756-4f4f-b38f-85c4f0ae930c"
   },
   "outputs": [],
   "source": [
    "server = 'DESKTOP-T4M784R\\SQLEXPRESS' \n",
    "database = 'fifa' \n",
    "username = 'sa' \n",
    "password = 'Dj0nat2n'  "
   ]
  },
  {
   "cell_type": "code",
   "execution_count": 22,
   "metadata": {
    "azdata_cell_guid": "60b55f21-c35f-4f76-ad02-7019384f04aa"
   },
   "outputs": [],
   "source": [
    "cnxn = pyodbc.connect('DRIVER={SQL Server};SERVER='+server+';DATABASE='+database+';UID='+username+';PWD='+ password)\n",
    "cursor = cnxn.cursor()"
   ]
  },
  {
   "cell_type": "code",
   "execution_count": 23,
   "metadata": {
    "azdata_cell_guid": "3db2b3fb-0146-4cb6-8d57-d76e11007a49"
   },
   "outputs": [],
   "source": [
    "query = \"\"\" SELECT\n",
    "      pl.short_name\n",
    "      ,info.[age]\n",
    "       ,info.[player_positions]\n",
    "       ,league.[league_name]\n",
    "       ,league.[league_level]\n",
    "      ,info.[year]\n",
    "      ,info.[overall]\n",
    "      ,info.[potential]\n",
    "      ,info.[value_eur]\n",
    "      ,info.[wage_eur]\n",
    "      ,info.[club_team_id]\n",
    "      ,info.[club_position]\n",
    "      ,info.[club_joined]\n",
    "      ,info.[weak_foot]\n",
    "      ,info.[skill_moves]\n",
    "      ,info.[international_reputation]\n",
    "      ,info.[work_rate]\n",
    "      ,info.[body_type]\n",
    "      ,info.[player_tags]\n",
    "      ,info.[player_traits]\n",
    "      ,info.[pace]\n",
    "      ,info.[shooting]\n",
    "      ,info.[passing]\n",
    "      ,info.[dribbling]\n",
    "      ,info.[defending]\n",
    "      ,info.[physic]\n",
    "      ,info.[attacking_crossing]\n",
    "      ,info.[attacking_finishing]\n",
    "      ,info.[attacking_heading_accuracy]\n",
    "      ,info.[attacking_short_passing]\n",
    "      ,info.[attacking_volleys]\n",
    "      ,info.[skill_dribbling]\n",
    "      ,info.[skill_curve]\n",
    "      ,info.[skill_fk_accuracy]\n",
    "      ,info.[skill_long_passing]\n",
    "      ,info.[skill_ball_control]\n",
    "      ,info.[movement_acceleration]\n",
    "      ,info.[movement_sprint_speed]\n",
    "      ,info.[movement_agility]\n",
    "      ,info.[movement_reactions]\n",
    "      ,info.[movement_balance]\n",
    "      ,info.[power_shot_power]\n",
    "      ,info.[power_jumping]\n",
    "      ,info.[power_stamina]\n",
    "      ,info.[power_strength]\n",
    "      ,info.[power_long_shots]\n",
    "      ,info.[mentality_aggression]\n",
    "      ,info.[mentality_interceptions]\n",
    "      ,info.[mentality_positioning]\n",
    "      ,info.[mentality_vision]\n",
    "      ,info.[mentality_penalties]\n",
    "      ,info.[mentality_composure]\n",
    "      ,info.[defending_marking_awareness]\n",
    "      ,info.[defending_standing_tackle]\n",
    "      ,info.[defending_sliding_tackle]\n",
    "      ,info.[goalkeeping_diving]\n",
    "      ,info.[goalkeeping_handling]\n",
    "      ,info.[goalkeeping_kicking]\n",
    "      ,info.[goalkeeping_positioning]\n",
    "      ,info.[goalkeeping_reflexes]\n",
    "      ,info.[goalkeeping_speed]\n",
    "      ,info.[ls]\n",
    "      ,info.[st]\n",
    "      ,info.[rs]\n",
    "      ,info.[lw]\n",
    "      ,info.[lf]\n",
    "      ,info.[cf]\n",
    "      ,info.[rf]\n",
    "      ,info.[rw]\n",
    "      ,info.[lam]\n",
    "      ,info.[cam]\n",
    "      ,info.[ram]\n",
    "      ,info.[lm]\n",
    "      ,info.[lcm]\n",
    "      ,info.[cm]\n",
    "      ,info.[rcm]\n",
    "      ,info.[rm]\n",
    "      ,info.[lwb]\n",
    "      ,info.[ldm]\n",
    "      ,info.[cdm]\n",
    "      ,info.[rdm]\n",
    "      ,info.[rwb]\n",
    "      ,info.[lb]\n",
    "      ,info.[lcb]\n",
    "      ,info.[cb]\n",
    "      ,info.[rcb]\n",
    "      ,info.[rb]\n",
    "      ,info.[gk]\n",
    "  FROM [fifa].[dbo].[player_info_stats]  info\n",
    "  left join [fifa].[dbo].[player] pl \n",
    "  on pl.sofifa_id = info.sofifa_id\n",
    "  left join [fifa].[dbo].[club] club\n",
    "  on club.club_team_id = info.club_team_id\n",
    "  left join [fifa].[dbo].[league] league\n",
    "  on club.league_id = league.league_id\n",
    " \"\"\""
   ]
  },
  {
   "cell_type": "markdown",
   "metadata": {
    "azdata_cell_guid": "e2886ca2-8a31-4c12-a2a0-3ea803a252a4"
   },
   "source": [
    "**Get Data from Database into Dataframe**"
   ]
  },
  {
   "cell_type": "code",
   "execution_count": 24,
   "metadata": {
    "azdata_cell_guid": "523089f8-f286-445d-abb0-540b6af3783e"
   },
   "outputs": [],
   "source": [
    "df = pd.read_sql(query, cnxn)"
   ]
  },
  {
   "cell_type": "markdown",
   "metadata": {},
   "source": [
    "# Take a Quick Look at the Data Structure\n"
   ]
  },
  {
   "cell_type": "markdown",
   "metadata": {},
   "source": [
    "Shape function shows that we have  142101 rows and 88 columns in our dataset"
   ]
  },
  {
   "cell_type": "code",
   "execution_count": 25,
   "metadata": {
    "azdata_cell_guid": "909af8fa-8fdf-441e-84f9-edc3f97d79c4"
   },
   "outputs": [
    {
     "data": {
      "text/plain": [
       "(142101, 88)"
      ]
     },
     "execution_count": 25,
     "metadata": {},
     "output_type": "execute_result"
    }
   ],
   "source": [
    "df.shape"
   ]
  },
  {
   "cell_type": "markdown",
   "metadata": {},
   "source": [
    "Let's take a look at the columns"
   ]
  },
  {
   "cell_type": "code",
   "execution_count": 26,
   "metadata": {},
   "outputs": [
    {
     "data": {
      "text/plain": [
       "Index(['short_name', 'age', 'player_positions', 'league_name', 'league_level',\n",
       "       'year', 'overall', 'potential', 'value_eur', 'wage_eur', 'club_team_id',\n",
       "       'club_position', 'club_joined', 'weak_foot', 'skill_moves',\n",
       "       'international_reputation', 'work_rate', 'body_type', 'player_tags',\n",
       "       'player_traits', 'pace', 'shooting', 'passing', 'dribbling',\n",
       "       'defending', 'physic', 'attacking_crossing', 'attacking_finishing',\n",
       "       'attacking_heading_accuracy', 'attacking_short_passing',\n",
       "       'attacking_volleys', 'skill_dribbling', 'skill_curve',\n",
       "       'skill_fk_accuracy', 'skill_long_passing', 'skill_ball_control',\n",
       "       'movement_acceleration', 'movement_sprint_speed', 'movement_agility',\n",
       "       'movement_reactions', 'movement_balance', 'power_shot_power',\n",
       "       'power_jumping', 'power_stamina', 'power_strength', 'power_long_shots',\n",
       "       'mentality_aggression', 'mentality_interceptions',\n",
       "       'mentality_positioning', 'mentality_vision', 'mentality_penalties',\n",
       "       'mentality_composure', 'defending_marking_awareness',\n",
       "       'defending_standing_tackle', 'defending_sliding_tackle',\n",
       "       'goalkeeping_diving', 'goalkeeping_handling', 'goalkeeping_kicking',\n",
       "       'goalkeeping_positioning', 'goalkeeping_reflexes', 'goalkeeping_speed',\n",
       "       'ls', 'st', 'rs', 'lw', 'lf', 'cf', 'rf', 'rw', 'lam', 'cam', 'ram',\n",
       "       'lm', 'lcm', 'cm', 'rcm', 'rm', 'lwb', 'ldm', 'cdm', 'rdm', 'rwb', 'lb',\n",
       "       'lcb', 'cb', 'rcb', 'rb', 'gk'],\n",
       "      dtype='object')"
      ]
     },
     "execution_count": 26,
     "metadata": {},
     "output_type": "execute_result"
    }
   ],
   "source": [
    "df.columns"
   ]
  },
  {
   "cell_type": "markdown",
   "metadata": {},
   "source": [
    "Lets take a look at what it is our data"
   ]
  },
  {
   "cell_type": "code",
   "execution_count": 27,
   "metadata": {},
   "outputs": [
    {
     "data": {
      "text/html": [
       "<div>\n",
       "<style scoped>\n",
       "    .dataframe tbody tr th:only-of-type {\n",
       "        vertical-align: middle;\n",
       "    }\n",
       "\n",
       "    .dataframe tbody tr th {\n",
       "        vertical-align: top;\n",
       "    }\n",
       "\n",
       "    .dataframe thead th {\n",
       "        text-align: right;\n",
       "    }\n",
       "</style>\n",
       "<table border=\"1\" class=\"dataframe\">\n",
       "  <thead>\n",
       "    <tr style=\"text-align: right;\">\n",
       "      <th></th>\n",
       "      <th>short_name</th>\n",
       "      <th>age</th>\n",
       "      <th>player_positions</th>\n",
       "      <th>league_name</th>\n",
       "      <th>league_level</th>\n",
       "      <th>year</th>\n",
       "      <th>overall</th>\n",
       "      <th>potential</th>\n",
       "      <th>value_eur</th>\n",
       "      <th>wage_eur</th>\n",
       "      <th>...</th>\n",
       "      <th>ldm</th>\n",
       "      <th>cdm</th>\n",
       "      <th>rdm</th>\n",
       "      <th>rwb</th>\n",
       "      <th>lb</th>\n",
       "      <th>lcb</th>\n",
       "      <th>cb</th>\n",
       "      <th>rcb</th>\n",
       "      <th>rb</th>\n",
       "      <th>gk</th>\n",
       "    </tr>\n",
       "  </thead>\n",
       "  <tbody>\n",
       "    <tr>\n",
       "      <th>0</th>\n",
       "      <td>L. Messi</td>\n",
       "      <td>34</td>\n",
       "      <td>RW, ST, CF</td>\n",
       "      <td>French Ligue 1</td>\n",
       "      <td>1.0</td>\n",
       "      <td>2022</td>\n",
       "      <td>93</td>\n",
       "      <td>93</td>\n",
       "      <td>78000000.0</td>\n",
       "      <td>320000.0</td>\n",
       "      <td>...</td>\n",
       "      <td>64+3</td>\n",
       "      <td>64+3</td>\n",
       "      <td>64+3</td>\n",
       "      <td>66+3</td>\n",
       "      <td>61+3</td>\n",
       "      <td>50+3</td>\n",
       "      <td>50+3</td>\n",
       "      <td>50+3</td>\n",
       "      <td>61+3</td>\n",
       "      <td>19+3</td>\n",
       "    </tr>\n",
       "    <tr>\n",
       "      <th>1</th>\n",
       "      <td>R. Lewandowski</td>\n",
       "      <td>32</td>\n",
       "      <td>ST</td>\n",
       "      <td>German 1. Bundesliga</td>\n",
       "      <td>1.0</td>\n",
       "      <td>2022</td>\n",
       "      <td>92</td>\n",
       "      <td>92</td>\n",
       "      <td>119500000.0</td>\n",
       "      <td>270000.0</td>\n",
       "      <td>...</td>\n",
       "      <td>66+3</td>\n",
       "      <td>66+3</td>\n",
       "      <td>66+3</td>\n",
       "      <td>64+3</td>\n",
       "      <td>61+3</td>\n",
       "      <td>60+3</td>\n",
       "      <td>60+3</td>\n",
       "      <td>60+3</td>\n",
       "      <td>61+3</td>\n",
       "      <td>19+3</td>\n",
       "    </tr>\n",
       "  </tbody>\n",
       "</table>\n",
       "<p>2 rows × 88 columns</p>\n",
       "</div>"
      ],
      "text/plain": [
       "       short_name  age player_positions           league_name  league_level  \\\n",
       "0        L. Messi   34       RW, ST, CF        French Ligue 1           1.0   \n",
       "1  R. Lewandowski   32               ST  German 1. Bundesliga           1.0   \n",
       "\n",
       "   year  overall  potential    value_eur  wage_eur  ...   ldm   cdm   rdm  \\\n",
       "0  2022       93         93   78000000.0  320000.0  ...  64+3  64+3  64+3   \n",
       "1  2022       92         92  119500000.0  270000.0  ...  66+3  66+3  66+3   \n",
       "\n",
       "    rwb    lb   lcb    cb   rcb    rb    gk  \n",
       "0  66+3  61+3  50+3  50+3  50+3  61+3  19+3  \n",
       "1  64+3  61+3  60+3  60+3  60+3  61+3  19+3  \n",
       "\n",
       "[2 rows x 88 columns]"
      ]
     },
     "execution_count": 27,
     "metadata": {},
     "output_type": "execute_result"
    }
   ],
   "source": [
    "df.head(2)"
   ]
  },
  {
   "cell_type": "markdown",
   "metadata": {},
   "source": [
    "We can see by the **info** function below  and the **head** function above that we have a lot of **numeric values** describing the characteristics of the player but the ones regarding the player position overall (lm,cam, rwb etc) comes with the overall + the increase or decrease of that player overall in that position and it is interpreted as an object by pandas"
   ]
  },
  {
   "cell_type": "code",
   "execution_count": 28,
   "metadata": {},
   "outputs": [
    {
     "name": "stdout",
     "output_type": "stream",
     "text": [
      "<class 'pandas.core.frame.DataFrame'>\n",
      "RangeIndex: 142101 entries, 0 to 142100\n",
      "Data columns (total 88 columns):\n",
      " #   Column                       Non-Null Count   Dtype  \n",
      "---  ------                       --------------   -----  \n",
      " 0   short_name                   142101 non-null  object \n",
      " 1   age                          142101 non-null  int64  \n",
      " 2   player_positions             142101 non-null  object \n",
      " 3   league_name                  138838 non-null  object \n",
      " 4   league_level                 138838 non-null  float64\n",
      " 5   year                         142101 non-null  int64  \n",
      " 6   overall                      142101 non-null  int64  \n",
      " 7   potential                    142101 non-null  int64  \n",
      " 8   value_eur                    140204 non-null  float64\n",
      " 9   wage_eur                     140479 non-null  float64\n",
      " 10  club_team_id                 140471 non-null  float64\n",
      " 11  club_position                140471 non-null  object \n",
      " 12  club_joined                  132166 non-null  object \n",
      " 13  weak_foot                    142101 non-null  int64  \n",
      " 14  skill_moves                  142101 non-null  int64  \n",
      " 15  international_reputation     142101 non-null  int64  \n",
      " 16  work_rate                    142101 non-null  object \n",
      " 17  body_type                    142101 non-null  object \n",
      " 18  player_tags                  11330 non-null   object \n",
      " 19  player_traits                63330 non-null   object \n",
      " 20  pace                         126304 non-null  float64\n",
      " 21  shooting                     126304 non-null  float64\n",
      " 22  passing                      126304 non-null  float64\n",
      " 23  dribbling                    126304 non-null  float64\n",
      " 24  defending                    126304 non-null  float64\n",
      " 25  physic                       126304 non-null  float64\n",
      " 26  attacking_crossing           142101 non-null  int64  \n",
      " 27  attacking_finishing          142101 non-null  int64  \n",
      " 28  attacking_heading_accuracy   142101 non-null  int64  \n",
      " 29  attacking_short_passing      142101 non-null  int64  \n",
      " 30  attacking_volleys            142101 non-null  int64  \n",
      " 31  skill_dribbling              142101 non-null  int64  \n",
      " 32  skill_curve                  142101 non-null  int64  \n",
      " 33  skill_fk_accuracy            142101 non-null  int64  \n",
      " 34  skill_long_passing           142101 non-null  int64  \n",
      " 35  skill_ball_control           142101 non-null  int64  \n",
      " 36  movement_acceleration        142101 non-null  int64  \n",
      " 37  movement_sprint_speed        142101 non-null  int64  \n",
      " 38  movement_agility             142101 non-null  int64  \n",
      " 39  movement_reactions           142101 non-null  int64  \n",
      " 40  movement_balance             142101 non-null  int64  \n",
      " 41  power_shot_power             142101 non-null  int64  \n",
      " 42  power_jumping                142101 non-null  int64  \n",
      " 43  power_stamina                142101 non-null  int64  \n",
      " 44  power_strength               142101 non-null  int64  \n",
      " 45  power_long_shots             142101 non-null  int64  \n",
      " 46  mentality_aggression         142101 non-null  int64  \n",
      " 47  mentality_interceptions      142101 non-null  int64  \n",
      " 48  mentality_positioning        142101 non-null  int64  \n",
      " 49  mentality_vision             142101 non-null  int64  \n",
      " 50  mentality_penalties          142101 non-null  int64  \n",
      " 51  mentality_composure          110323 non-null  float64\n",
      " 52  defending_marking_awareness  142101 non-null  int64  \n",
      " 53  defending_standing_tackle    142101 non-null  int64  \n",
      " 54  defending_sliding_tackle     142101 non-null  int64  \n",
      " 55  goalkeeping_diving           142101 non-null  int64  \n",
      " 56  goalkeeping_handling         142101 non-null  int64  \n",
      " 57  goalkeeping_kicking          142101 non-null  int64  \n",
      " 58  goalkeeping_positioning      142101 non-null  int64  \n",
      " 59  goalkeeping_reflexes         142101 non-null  int64  \n",
      " 60  goalkeeping_speed            15797 non-null   float64\n",
      " 61  ls                           142101 non-null  object \n",
      " 62  st                           142101 non-null  object \n",
      " 63  rs                           142101 non-null  object \n",
      " 64  lw                           141468 non-null  object \n",
      " 65  lf                           142101 non-null  object \n",
      " 66  cf                           142101 non-null  object \n",
      " 67  rf                           142101 non-null  object \n",
      " 68  rw                           141468 non-null  object \n",
      " 69  lam                          142101 non-null  object \n",
      " 70  cam                          142101 non-null  object \n",
      " 71  ram                          142101 non-null  object \n",
      " 72  lm                           142101 non-null  object \n",
      " 73  lcm                          142101 non-null  object \n",
      " 74  cm                           142101 non-null  object \n",
      " 75  rcm                          142101 non-null  object \n",
      " 76  rm                           142101 non-null  object \n",
      " 77  lwb                          142101 non-null  object \n",
      " 78  ldm                          142101 non-null  object \n",
      " 79  cdm                          142101 non-null  object \n",
      " 80  rdm                          142101 non-null  object \n",
      " 81  rwb                          142101 non-null  object \n",
      " 82  lb                           142101 non-null  object \n",
      " 83  lcb                          142101 non-null  object \n",
      " 84  cb                           142101 non-null  object \n",
      " 85  rcb                          142101 non-null  object \n",
      " 86  rb                           142101 non-null  object \n",
      " 87  gk                           142101 non-null  object \n",
      "dtypes: float64(12), int64(40), object(36)\n",
      "memory usage: 95.4+ MB\n"
     ]
    }
   ],
   "source": [
    "df.info()"
   ]
  },
  {
   "cell_type": "markdown",
   "metadata": {},
   "source": [
    "With the **describe** function we can see some statistical insights about our dataset (only regarding the numerical values)"
   ]
  },
  {
   "cell_type": "code",
   "execution_count": 29,
   "metadata": {},
   "outputs": [
    {
     "data": {
      "text/html": [
       "<div>\n",
       "<style scoped>\n",
       "    .dataframe tbody tr th:only-of-type {\n",
       "        vertical-align: middle;\n",
       "    }\n",
       "\n",
       "    .dataframe tbody tr th {\n",
       "        vertical-align: top;\n",
       "    }\n",
       "\n",
       "    .dataframe thead th {\n",
       "        text-align: right;\n",
       "    }\n",
       "</style>\n",
       "<table border=\"1\" class=\"dataframe\">\n",
       "  <thead>\n",
       "    <tr style=\"text-align: right;\">\n",
       "      <th></th>\n",
       "      <th>age</th>\n",
       "      <th>league_level</th>\n",
       "      <th>year</th>\n",
       "      <th>overall</th>\n",
       "      <th>potential</th>\n",
       "      <th>value_eur</th>\n",
       "      <th>wage_eur</th>\n",
       "      <th>club_team_id</th>\n",
       "      <th>weak_foot</th>\n",
       "      <th>skill_moves</th>\n",
       "      <th>...</th>\n",
       "      <th>mentality_composure</th>\n",
       "      <th>defending_marking_awareness</th>\n",
       "      <th>defending_standing_tackle</th>\n",
       "      <th>defending_sliding_tackle</th>\n",
       "      <th>goalkeeping_diving</th>\n",
       "      <th>goalkeeping_handling</th>\n",
       "      <th>goalkeeping_kicking</th>\n",
       "      <th>goalkeeping_positioning</th>\n",
       "      <th>goalkeeping_reflexes</th>\n",
       "      <th>goalkeeping_speed</th>\n",
       "    </tr>\n",
       "  </thead>\n",
       "  <tbody>\n",
       "    <tr>\n",
       "      <th>count</th>\n",
       "      <td>142101.000000</td>\n",
       "      <td>138838.000000</td>\n",
       "      <td>142101.000000</td>\n",
       "      <td>142101.000000</td>\n",
       "      <td>142101.000000</td>\n",
       "      <td>1.402040e+05</td>\n",
       "      <td>140479.000000</td>\n",
       "      <td>140471.000000</td>\n",
       "      <td>142101.000000</td>\n",
       "      <td>142101.000000</td>\n",
       "      <td>...</td>\n",
       "      <td>110323.000000</td>\n",
       "      <td>142101.000000</td>\n",
       "      <td>142101.000000</td>\n",
       "      <td>142101.000000</td>\n",
       "      <td>142101.000000</td>\n",
       "      <td>142101.000000</td>\n",
       "      <td>142101.000000</td>\n",
       "      <td>142101.000000</td>\n",
       "      <td>142101.000000</td>\n",
       "      <td>15797.000000</td>\n",
       "    </tr>\n",
       "    <tr>\n",
       "      <th>mean</th>\n",
       "      <td>25.117754</td>\n",
       "      <td>1.384751</td>\n",
       "      <td>2018.644443</td>\n",
       "      <td>65.709735</td>\n",
       "      <td>70.729312</td>\n",
       "      <td>2.277650e+06</td>\n",
       "      <td>11152.385054</td>\n",
       "      <td>44479.225413</td>\n",
       "      <td>2.939958</td>\n",
       "      <td>2.325705</td>\n",
       "      <td>...</td>\n",
       "      <td>57.792410</td>\n",
       "      <td>45.664710</td>\n",
       "      <td>47.607195</td>\n",
       "      <td>45.648982</td>\n",
       "      <td>16.545070</td>\n",
       "      <td>16.291617</td>\n",
       "      <td>16.151188</td>\n",
       "      <td>16.300089</td>\n",
       "      <td>16.656477</td>\n",
       "      <td>39.537317</td>\n",
       "    </tr>\n",
       "    <tr>\n",
       "      <th>std</th>\n",
       "      <td>4.659323</td>\n",
       "      <td>0.751792</td>\n",
       "      <td>2.277220</td>\n",
       "      <td>7.070117</td>\n",
       "      <td>6.275820</td>\n",
       "      <td>5.827028e+06</td>\n",
       "      <td>22503.973741</td>\n",
       "      <td>53279.779410</td>\n",
       "      <td>0.661581</td>\n",
       "      <td>0.749189</td>\n",
       "      <td>...</td>\n",
       "      <td>12.379719</td>\n",
       "      <td>20.457152</td>\n",
       "      <td>21.353212</td>\n",
       "      <td>20.964145</td>\n",
       "      <td>17.684634</td>\n",
       "      <td>16.834106</td>\n",
       "      <td>16.458745</td>\n",
       "      <td>16.996863</td>\n",
       "      <td>17.990736</td>\n",
       "      <td>10.437957</td>\n",
       "    </tr>\n",
       "    <tr>\n",
       "      <th>min</th>\n",
       "      <td>16.000000</td>\n",
       "      <td>1.000000</td>\n",
       "      <td>2015.000000</td>\n",
       "      <td>40.000000</td>\n",
       "      <td>40.000000</td>\n",
       "      <td>1.000000e+03</td>\n",
       "      <td>500.000000</td>\n",
       "      <td>1.000000</td>\n",
       "      <td>1.000000</td>\n",
       "      <td>1.000000</td>\n",
       "      <td>...</td>\n",
       "      <td>3.000000</td>\n",
       "      <td>1.000000</td>\n",
       "      <td>2.000000</td>\n",
       "      <td>3.000000</td>\n",
       "      <td>1.000000</td>\n",
       "      <td>1.000000</td>\n",
       "      <td>1.000000</td>\n",
       "      <td>1.000000</td>\n",
       "      <td>1.000000</td>\n",
       "      <td>12.000000</td>\n",
       "    </tr>\n",
       "    <tr>\n",
       "      <th>25%</th>\n",
       "      <td>21.000000</td>\n",
       "      <td>1.000000</td>\n",
       "      <td>2017.000000</td>\n",
       "      <td>61.000000</td>\n",
       "      <td>66.000000</td>\n",
       "      <td>3.000000e+05</td>\n",
       "      <td>2000.000000</td>\n",
       "      <td>449.000000</td>\n",
       "      <td>3.000000</td>\n",
       "      <td>2.000000</td>\n",
       "      <td>...</td>\n",
       "      <td>50.000000</td>\n",
       "      <td>25.000000</td>\n",
       "      <td>26.000000</td>\n",
       "      <td>25.000000</td>\n",
       "      <td>8.000000</td>\n",
       "      <td>8.000000</td>\n",
       "      <td>8.000000</td>\n",
       "      <td>8.000000</td>\n",
       "      <td>8.000000</td>\n",
       "      <td>32.000000</td>\n",
       "    </tr>\n",
       "    <tr>\n",
       "      <th>50%</th>\n",
       "      <td>25.000000</td>\n",
       "      <td>1.000000</td>\n",
       "      <td>2019.000000</td>\n",
       "      <td>66.000000</td>\n",
       "      <td>70.000000</td>\n",
       "      <td>7.000000e+05</td>\n",
       "      <td>4000.000000</td>\n",
       "      <td>1887.000000</td>\n",
       "      <td>3.000000</td>\n",
       "      <td>2.000000</td>\n",
       "      <td>...</td>\n",
       "      <td>59.000000</td>\n",
       "      <td>50.000000</td>\n",
       "      <td>54.000000</td>\n",
       "      <td>52.000000</td>\n",
       "      <td>11.000000</td>\n",
       "      <td>11.000000</td>\n",
       "      <td>11.000000</td>\n",
       "      <td>11.000000</td>\n",
       "      <td>11.000000</td>\n",
       "      <td>41.000000</td>\n",
       "    </tr>\n",
       "    <tr>\n",
       "      <th>75%</th>\n",
       "      <td>28.000000</td>\n",
       "      <td>2.000000</td>\n",
       "      <td>2021.000000</td>\n",
       "      <td>70.000000</td>\n",
       "      <td>75.000000</td>\n",
       "      <td>1.800000e+06</td>\n",
       "      <td>10000.000000</td>\n",
       "      <td>110799.000000</td>\n",
       "      <td>3.000000</td>\n",
       "      <td>3.000000</td>\n",
       "      <td>...</td>\n",
       "      <td>66.000000</td>\n",
       "      <td>63.000000</td>\n",
       "      <td>66.000000</td>\n",
       "      <td>64.000000</td>\n",
       "      <td>14.000000</td>\n",
       "      <td>14.000000</td>\n",
       "      <td>14.000000</td>\n",
       "      <td>14.000000</td>\n",
       "      <td>14.000000</td>\n",
       "      <td>47.000000</td>\n",
       "    </tr>\n",
       "    <tr>\n",
       "      <th>max</th>\n",
       "      <td>54.000000</td>\n",
       "      <td>4.000000</td>\n",
       "      <td>2022.000000</td>\n",
       "      <td>94.000000</td>\n",
       "      <td>95.000000</td>\n",
       "      <td>1.940000e+08</td>\n",
       "      <td>575000.000000</td>\n",
       "      <td>115820.000000</td>\n",
       "      <td>5.000000</td>\n",
       "      <td>5.000000</td>\n",
       "      <td>...</td>\n",
       "      <td>96.000000</td>\n",
       "      <td>94.000000</td>\n",
       "      <td>94.000000</td>\n",
       "      <td>95.000000</td>\n",
       "      <td>91.000000</td>\n",
       "      <td>92.000000</td>\n",
       "      <td>95.000000</td>\n",
       "      <td>92.000000</td>\n",
       "      <td>94.000000</td>\n",
       "      <td>68.000000</td>\n",
       "    </tr>\n",
       "  </tbody>\n",
       "</table>\n",
       "<p>8 rows × 52 columns</p>\n",
       "</div>"
      ],
      "text/plain": [
       "                 age   league_level           year        overall  \\\n",
       "count  142101.000000  138838.000000  142101.000000  142101.000000   \n",
       "mean       25.117754       1.384751    2018.644443      65.709735   \n",
       "std         4.659323       0.751792       2.277220       7.070117   \n",
       "min        16.000000       1.000000    2015.000000      40.000000   \n",
       "25%        21.000000       1.000000    2017.000000      61.000000   \n",
       "50%        25.000000       1.000000    2019.000000      66.000000   \n",
       "75%        28.000000       2.000000    2021.000000      70.000000   \n",
       "max        54.000000       4.000000    2022.000000      94.000000   \n",
       "\n",
       "           potential     value_eur       wage_eur   club_team_id  \\\n",
       "count  142101.000000  1.402040e+05  140479.000000  140471.000000   \n",
       "mean       70.729312  2.277650e+06   11152.385054   44479.225413   \n",
       "std         6.275820  5.827028e+06   22503.973741   53279.779410   \n",
       "min        40.000000  1.000000e+03     500.000000       1.000000   \n",
       "25%        66.000000  3.000000e+05    2000.000000     449.000000   \n",
       "50%        70.000000  7.000000e+05    4000.000000    1887.000000   \n",
       "75%        75.000000  1.800000e+06   10000.000000  110799.000000   \n",
       "max        95.000000  1.940000e+08  575000.000000  115820.000000   \n",
       "\n",
       "           weak_foot    skill_moves  ...  mentality_composure  \\\n",
       "count  142101.000000  142101.000000  ...        110323.000000   \n",
       "mean        2.939958       2.325705  ...            57.792410   \n",
       "std         0.661581       0.749189  ...            12.379719   \n",
       "min         1.000000       1.000000  ...             3.000000   \n",
       "25%         3.000000       2.000000  ...            50.000000   \n",
       "50%         3.000000       2.000000  ...            59.000000   \n",
       "75%         3.000000       3.000000  ...            66.000000   \n",
       "max         5.000000       5.000000  ...            96.000000   \n",
       "\n",
       "       defending_marking_awareness  defending_standing_tackle  \\\n",
       "count                142101.000000              142101.000000   \n",
       "mean                     45.664710                  47.607195   \n",
       "std                      20.457152                  21.353212   \n",
       "min                       1.000000                   2.000000   \n",
       "25%                      25.000000                  26.000000   \n",
       "50%                      50.000000                  54.000000   \n",
       "75%                      63.000000                  66.000000   \n",
       "max                      94.000000                  94.000000   \n",
       "\n",
       "       defending_sliding_tackle  goalkeeping_diving  goalkeeping_handling  \\\n",
       "count             142101.000000       142101.000000         142101.000000   \n",
       "mean                  45.648982           16.545070             16.291617   \n",
       "std                   20.964145           17.684634             16.834106   \n",
       "min                    3.000000            1.000000              1.000000   \n",
       "25%                   25.000000            8.000000              8.000000   \n",
       "50%                   52.000000           11.000000             11.000000   \n",
       "75%                   64.000000           14.000000             14.000000   \n",
       "max                   95.000000           91.000000             92.000000   \n",
       "\n",
       "       goalkeeping_kicking  goalkeeping_positioning  goalkeeping_reflexes  \\\n",
       "count        142101.000000            142101.000000         142101.000000   \n",
       "mean             16.151188                16.300089             16.656477   \n",
       "std              16.458745                16.996863             17.990736   \n",
       "min               1.000000                 1.000000              1.000000   \n",
       "25%               8.000000                 8.000000              8.000000   \n",
       "50%              11.000000                11.000000             11.000000   \n",
       "75%              14.000000                14.000000             14.000000   \n",
       "max              95.000000                92.000000             94.000000   \n",
       "\n",
       "       goalkeeping_speed  \n",
       "count       15797.000000  \n",
       "mean           39.537317  \n",
       "std            10.437957  \n",
       "min            12.000000  \n",
       "25%            32.000000  \n",
       "50%            41.000000  \n",
       "75%            47.000000  \n",
       "max            68.000000  \n",
       "\n",
       "[8 rows x 52 columns]"
      ]
     },
     "execution_count": 29,
     "metadata": {},
     "output_type": "execute_result"
    }
   ],
   "source": [
    "df.describe()"
   ]
  },
  {
   "cell_type": "markdown",
   "metadata": {},
   "source": [
    "We can already learn something about our data:"
   ]
  },
  {
   "cell_type": "markdown",
   "metadata": {},
   "source": [
    "- The **mean** age of the players is around 25 years old and we have a **standard deviation** of about 4.6 years\n",
    "- the **overall** values vary from 40(min) to 94(max)\n",
    "- the **potential** values vary from 40(min) to 95(max)\n",
    "    "
   ]
  },
  {
   "cell_type": "markdown",
   "metadata": {},
   "source": [
    "**hist()** method will plot a histogram for each numerical attribute"
   ]
  },
  {
   "cell_type": "code",
   "execution_count": 30,
   "metadata": {},
   "outputs": [
    {
     "data": {
      "image/png": "[encoded data removed]",
      "text/plain": [
       "<Figure size 1440x1440 with 56 Axes>"
      ]
     },
     "metadata": {
      "needs_background": "light"
     },
     "output_type": "display_data"
    }
   ],
   "source": [
    "df.hist(bins=50,figsize=(20,20))\n",
    "plt.show()\n"
   ]
  },
  {
   "cell_type": "markdown",
   "metadata": {},
   "source": [
    "We can also take a look in the **position** values for the players"
   ]
  },
  {
   "cell_type": "code",
   "execution_count": 31,
   "metadata": {},
   "outputs": [
    {
     "data": {
      "text/plain": [
       "array(['RW, ST, CF', 'ST', 'ST, LW', ..., 'CM, CDM, LW, CAM',\n",
       "       'CAM, CDM, CF', 'LB, CB, LM, LW'], dtype=object)"
      ]
     },
     "execution_count": 31,
     "metadata": {},
     "output_type": "execute_result"
    }
   ],
   "source": [
    "df['player_positions'].unique()"
   ]
  },
  {
   "cell_type": "markdown",
   "metadata": {},
   "source": [
    "see that one player can play in different positions in the game, see the example below from messi:"
   ]
  },
  {
   "cell_type": "markdown",
   "metadata": {},
   "source": [
    "in 2022 he can play as a Right Wing(RW) a StriKer(ST) or Even a Center Foward(CF)"
   ]
  },
  {
   "cell_type": "code",
   "execution_count": 32,
   "metadata": {},
   "outputs": [
    {
     "data": {
      "text/html": [
       "<div>\n",
       "<style scoped>\n",
       "    .dataframe tbody tr th:only-of-type {\n",
       "        vertical-align: middle;\n",
       "    }\n",
       "\n",
       "    .dataframe tbody tr th {\n",
       "        vertical-align: top;\n",
       "    }\n",
       "\n",
       "    .dataframe thead th {\n",
       "        text-align: right;\n",
       "    }\n",
       "</style>\n",
       "<table border=\"1\" class=\"dataframe\">\n",
       "  <thead>\n",
       "    <tr style=\"text-align: right;\">\n",
       "      <th></th>\n",
       "      <th>short_name</th>\n",
       "      <th>age</th>\n",
       "      <th>player_positions</th>\n",
       "      <th>league_name</th>\n",
       "      <th>league_level</th>\n",
       "      <th>year</th>\n",
       "      <th>overall</th>\n",
       "      <th>potential</th>\n",
       "      <th>value_eur</th>\n",
       "      <th>wage_eur</th>\n",
       "      <th>...</th>\n",
       "      <th>ldm</th>\n",
       "      <th>cdm</th>\n",
       "      <th>rdm</th>\n",
       "      <th>rwb</th>\n",
       "      <th>lb</th>\n",
       "      <th>lcb</th>\n",
       "      <th>cb</th>\n",
       "      <th>rcb</th>\n",
       "      <th>rb</th>\n",
       "      <th>gk</th>\n",
       "    </tr>\n",
       "  </thead>\n",
       "  <tbody>\n",
       "    <tr>\n",
       "      <th>0</th>\n",
       "      <td>L. Messi</td>\n",
       "      <td>34</td>\n",
       "      <td>RW, ST, CF</td>\n",
       "      <td>French Ligue 1</td>\n",
       "      <td>1.0</td>\n",
       "      <td>2022</td>\n",
       "      <td>93</td>\n",
       "      <td>93</td>\n",
       "      <td>78000000.0</td>\n",
       "      <td>320000.0</td>\n",
       "      <td>...</td>\n",
       "      <td>64+3</td>\n",
       "      <td>64+3</td>\n",
       "      <td>64+3</td>\n",
       "      <td>66+3</td>\n",
       "      <td>61+3</td>\n",
       "      <td>50+3</td>\n",
       "      <td>50+3</td>\n",
       "      <td>50+3</td>\n",
       "      <td>61+3</td>\n",
       "      <td>19+3</td>\n",
       "    </tr>\n",
       "    <tr>\n",
       "      <th>19239</th>\n",
       "      <td>L. Messi</td>\n",
       "      <td>33</td>\n",
       "      <td>RW, ST, CF</td>\n",
       "      <td>Spain Primera Division</td>\n",
       "      <td>1.0</td>\n",
       "      <td>2021</td>\n",
       "      <td>93</td>\n",
       "      <td>93</td>\n",
       "      <td>103500000.0</td>\n",
       "      <td>560000.0</td>\n",
       "      <td>...</td>\n",
       "      <td>65+3</td>\n",
       "      <td>65+3</td>\n",
       "      <td>65+3</td>\n",
       "      <td>66+3</td>\n",
       "      <td>62+3</td>\n",
       "      <td>52+3</td>\n",
       "      <td>52+3</td>\n",
       "      <td>52+3</td>\n",
       "      <td>62+3</td>\n",
       "      <td>19+3</td>\n",
       "    </tr>\n",
       "    <tr>\n",
       "      <th>38183</th>\n",
       "      <td>L. Messi</td>\n",
       "      <td>32</td>\n",
       "      <td>RW, CF, ST</td>\n",
       "      <td>Spain Primera Division</td>\n",
       "      <td>1.0</td>\n",
       "      <td>2020</td>\n",
       "      <td>94</td>\n",
       "      <td>94</td>\n",
       "      <td>95500000.0</td>\n",
       "      <td>560000.0</td>\n",
       "      <td>...</td>\n",
       "      <td>66+6</td>\n",
       "      <td>66+6</td>\n",
       "      <td>66+6</td>\n",
       "      <td>68+6</td>\n",
       "      <td>63+6</td>\n",
       "      <td>53+6</td>\n",
       "      <td>53+6</td>\n",
       "      <td>53+6</td>\n",
       "      <td>63+6</td>\n",
       "      <td>19+6</td>\n",
       "    </tr>\n",
       "    <tr>\n",
       "      <th>38192</th>\n",
       "      <td>L. Messi</td>\n",
       "      <td>32</td>\n",
       "      <td>RW, CF, ST</td>\n",
       "      <td>Spain Primera Division</td>\n",
       "      <td>1.0</td>\n",
       "      <td>2020</td>\n",
       "      <td>94</td>\n",
       "      <td>94</td>\n",
       "      <td>95500000.0</td>\n",
       "      <td>560000.0</td>\n",
       "      <td>...</td>\n",
       "      <td>66+6</td>\n",
       "      <td>66+6</td>\n",
       "      <td>66+6</td>\n",
       "      <td>68+6</td>\n",
       "      <td>63+6</td>\n",
       "      <td>53+6</td>\n",
       "      <td>53+6</td>\n",
       "      <td>53+6</td>\n",
       "      <td>63+6</td>\n",
       "      <td>19+6</td>\n",
       "    </tr>\n",
       "    <tr>\n",
       "      <th>56689</th>\n",
       "      <td>L. Messi</td>\n",
       "      <td>31</td>\n",
       "      <td>CF, RW, ST</td>\n",
       "      <td>Spain Primera Division</td>\n",
       "      <td>1.0</td>\n",
       "      <td>2019</td>\n",
       "      <td>94</td>\n",
       "      <td>94</td>\n",
       "      <td>110500000.0</td>\n",
       "      <td>575000.0</td>\n",
       "      <td>...</td>\n",
       "      <td>61+7</td>\n",
       "      <td>61+7</td>\n",
       "      <td>61+7</td>\n",
       "      <td>63+7</td>\n",
       "      <td>59+7</td>\n",
       "      <td>48+7</td>\n",
       "      <td>48+7</td>\n",
       "      <td>48+7</td>\n",
       "      <td>59+7</td>\n",
       "      <td>19+7</td>\n",
       "    </tr>\n",
       "    <tr>\n",
       "      <th>74774</th>\n",
       "      <td>L. Messi</td>\n",
       "      <td>30</td>\n",
       "      <td>RW</td>\n",
       "      <td>Spain Primera Division</td>\n",
       "      <td>1.0</td>\n",
       "      <td>2018</td>\n",
       "      <td>93</td>\n",
       "      <td>93</td>\n",
       "      <td>105000000.0</td>\n",
       "      <td>575000.0</td>\n",
       "      <td>...</td>\n",
       "      <td>59+4</td>\n",
       "      <td>59+4</td>\n",
       "      <td>59+4</td>\n",
       "      <td>62+4</td>\n",
       "      <td>57+4</td>\n",
       "      <td>45+4</td>\n",
       "      <td>45+4</td>\n",
       "      <td>45+4</td>\n",
       "      <td>57+4</td>\n",
       "      <td>19+4</td>\n",
       "    </tr>\n",
       "    <tr>\n",
       "      <th>92728</th>\n",
       "      <td>L. Messi</td>\n",
       "      <td>29</td>\n",
       "      <td>RW</td>\n",
       "      <td>Spain Primera Division</td>\n",
       "      <td>1.0</td>\n",
       "      <td>2017</td>\n",
       "      <td>93</td>\n",
       "      <td>93</td>\n",
       "      <td>89000000.0</td>\n",
       "      <td>575000.0</td>\n",
       "      <td>...</td>\n",
       "      <td>59+4</td>\n",
       "      <td>59+4</td>\n",
       "      <td>59+4</td>\n",
       "      <td>62+4</td>\n",
       "      <td>57+4</td>\n",
       "      <td>45+4</td>\n",
       "      <td>45+4</td>\n",
       "      <td>45+4</td>\n",
       "      <td>57+4</td>\n",
       "      <td>19+4</td>\n",
       "    </tr>\n",
       "    <tr>\n",
       "      <th>110323</th>\n",
       "      <td>L. Messi</td>\n",
       "      <td>28</td>\n",
       "      <td>RW, CF</td>\n",
       "      <td>Spain Primera Division</td>\n",
       "      <td>1.0</td>\n",
       "      <td>2016</td>\n",
       "      <td>94</td>\n",
       "      <td>95</td>\n",
       "      <td>111000000.0</td>\n",
       "      <td>550000.0</td>\n",
       "      <td>...</td>\n",
       "      <td>57+3</td>\n",
       "      <td>57+3</td>\n",
       "      <td>57+3</td>\n",
       "      <td>62+3</td>\n",
       "      <td>57+3</td>\n",
       "      <td>44+3</td>\n",
       "      <td>44+3</td>\n",
       "      <td>44+3</td>\n",
       "      <td>57+3</td>\n",
       "      <td>19+3</td>\n",
       "    </tr>\n",
       "    <tr>\n",
       "      <th>125946</th>\n",
       "      <td>L. Messi</td>\n",
       "      <td>27</td>\n",
       "      <td>CF</td>\n",
       "      <td>Spain Primera Division</td>\n",
       "      <td>1.0</td>\n",
       "      <td>2015</td>\n",
       "      <td>93</td>\n",
       "      <td>95</td>\n",
       "      <td>100500000.0</td>\n",
       "      <td>550000.0</td>\n",
       "      <td>...</td>\n",
       "      <td>62+3</td>\n",
       "      <td>62+3</td>\n",
       "      <td>62+3</td>\n",
       "      <td>62+3</td>\n",
       "      <td>54+3</td>\n",
       "      <td>45+3</td>\n",
       "      <td>45+3</td>\n",
       "      <td>45+3</td>\n",
       "      <td>54+3</td>\n",
       "      <td>15+3</td>\n",
       "    </tr>\n",
       "  </tbody>\n",
       "</table>\n",
       "<p>9 rows × 88 columns</p>\n",
       "</div>"
      ],
      "text/plain": [
       "       short_name  age player_positions             league_name  league_level  \\\n",
       "0        L. Messi   34       RW, ST, CF          French Ligue 1           1.0   \n",
       "19239    L. Messi   33       RW, ST, CF  Spain Primera Division           1.0   \n",
       "38183    L. Messi   32       RW, CF, ST  Spain Primera Division           1.0   \n",
       "38192    L. Messi   32       RW, CF, ST  Spain Primera Division           1.0   \n",
       "56689    L. Messi   31       CF, RW, ST  Spain Primera Division           1.0   \n",
       "74774    L. Messi   30               RW  Spain Primera Division           1.0   \n",
       "92728    L. Messi   29               RW  Spain Primera Division           1.0   \n",
       "110323   L. Messi   28           RW, CF  Spain Primera Division           1.0   \n",
       "125946   L. Messi   27               CF  Spain Primera Division           1.0   \n",
       "\n",
       "        year  overall  potential    value_eur  wage_eur  ...   ldm   cdm  \\\n",
       "0       2022       93         93   78000000.0  320000.0  ...  64+3  64+3   \n",
       "19239   2021       93         93  103500000.0  560000.0  ...  65+3  65+3   \n",
       "38183   2020       94         94   95500000.0  560000.0  ...  66+6  66+6   \n",
       "38192   2020       94         94   95500000.0  560000.0  ...  66+6  66+6   \n",
       "56689   2019       94         94  110500000.0  575000.0  ...  61+7  61+7   \n",
       "74774   2018       93         93  105000000.0  575000.0  ...  59+4  59+4   \n",
       "92728   2017       93         93   89000000.0  575000.0  ...  59+4  59+4   \n",
       "110323  2016       94         95  111000000.0  550000.0  ...  57+3  57+3   \n",
       "125946  2015       93         95  100500000.0  550000.0  ...  62+3  62+3   \n",
       "\n",
       "         rdm   rwb    lb   lcb    cb   rcb    rb    gk  \n",
       "0       64+3  66+3  61+3  50+3  50+3  50+3  61+3  19+3  \n",
       "19239   65+3  66+3  62+3  52+3  52+3  52+3  62+3  19+3  \n",
       "38183   66+6  68+6  63+6  53+6  53+6  53+6  63+6  19+6  \n",
       "38192   66+6  68+6  63+6  53+6  53+6  53+6  63+6  19+6  \n",
       "56689   61+7  63+7  59+7  48+7  48+7  48+7  59+7  19+7  \n",
       "74774   59+4  62+4  57+4  45+4  45+4  45+4  57+4  19+4  \n",
       "92728   59+4  62+4  57+4  45+4  45+4  45+4  57+4  19+4  \n",
       "110323  57+3  62+3  57+3  44+3  44+3  44+3  57+3  19+3  \n",
       "125946  62+3  62+3  54+3  45+3  45+3  45+3  54+3  15+3  \n",
       "\n",
       "[9 rows x 88 columns]"
      ]
     },
     "execution_count": 32,
     "metadata": {},
     "output_type": "execute_result"
    }
   ],
   "source": [
    "df.loc[df['short_name']== 'L. Messi']"
   ]
  },
  {
   "cell_type": "markdown",
   "metadata": {},
   "source": [
    "# Data Cleaning and Preparation"
   ]
  },
  {
   "cell_type": "markdown",
   "metadata": {},
   "source": [
    "## Treating Positions null values"
   ]
  },
  {
   "cell_type": "markdown",
   "metadata": {},
   "source": [
    "From the **info** function that we apply we saw that in the position overall columns only the columns **'rw'** and **'lw'** have null values "
   ]
  },
  {
   "cell_type": "markdown",
   "metadata": {},
   "source": [
    "in this analysis we will replace this null values with the **overall rating** of the player"
   ]
  },
  {
   "cell_type": "code",
   "execution_count": 33,
   "metadata": {},
   "outputs": [],
   "source": [
    "df['rw'] = df['rw'].fillna(df['overall'].apply(str))\n",
    "df['lw'] = df['lw'].fillna(df['overall'].apply(str))"
   ]
  },
  {
   "cell_type": "markdown",
   "metadata": {},
   "source": [
    "Veryfying that we don't have null values anymore"
   ]
  },
  {
   "cell_type": "code",
   "execution_count": 34,
   "metadata": {},
   "outputs": [
    {
     "name": "stdout",
     "output_type": "stream",
     "text": [
      "lw null values = 0\n",
      "rw null values = 0\n"
     ]
    }
   ],
   "source": [
    "print (f\"lw null values = {df['lw'].isnull().sum()}\")\n",
    "print (f\"rw null values = {df['rw'].isnull().sum()}\")"
   ]
  },
  {
   "cell_type": "markdown",
   "metadata": {},
   "source": [
    "## Treating wages and value null values"
   ]
  },
  {
   "cell_type": "markdown",
   "metadata": {},
   "source": [
    "From the info function that we apply we saw that in the wage_eur and value_eur we have some missing information"
   ]
  },
  {
   "cell_type": "markdown",
   "metadata": {},
   "source": [
    "For this analysis we are choosing to **remove** this rows from the dataset"
   ]
  },
  {
   "cell_type": "code",
   "execution_count": 35,
   "metadata": {},
   "outputs": [],
   "source": [
    "df = df[df['wage_eur'].notna()]\n",
    "df = df[df['value_eur'].notna()]"
   ]
  },
  {
   "cell_type": "code",
   "execution_count": 36,
   "metadata": {},
   "outputs": [
    {
     "name": "stdout",
     "output_type": "stream",
     "text": [
      "wage_eur null values = 0\n",
      "value_eur null values = 0\n"
     ]
    }
   ],
   "source": [
    "print (f\"wage_eur null values = {df['wage_eur'].isnull().sum()}\")\n",
    "print (f\"value_eur null values = {df['value_eur'].isnull().sum()}\")"
   ]
  },
  {
   "cell_type": "markdown",
   "metadata": {},
   "source": [
    "## **Transforming the position overall data into numeric values**"
   ]
  },
  {
   "cell_type": "markdown",
   "metadata": {},
   "source": [
    "We are going to transform the position overall values that are as an equation (overall + or - something) to only the overall of the player in that position, creating the function solve_position_equation and applying to each position collumn , this will remove the operation signs and convert the values to integers"
   ]
  },
  {
   "cell_type": "code",
   "execution_count": 37,
   "metadata": {},
   "outputs": [],
   "source": [
    "df_pos_columns = [ 'ls', 'st', 'rs', 'lw', 'lf', 'cf', 'rf', 'rw', 'lam', 'cam', 'ram',\n",
    "       'lm', 'lcm', 'cm', 'rcm', 'rm', 'lwb', 'ldm', 'cdm', 'rdm', 'rwb', 'lb',\n",
    "       'lcb', 'cb', 'rcb', 'rb', 'gk']\n"
   ]
  },
  {
   "cell_type": "code",
   "execution_count": 38,
   "metadata": {},
   "outputs": [],
   "source": [
    "def solve_position_equation(s):\n",
    "      plus_position = s.find('+')\n",
    "      minus_position = s.find('-')\n",
    "\n",
    "      if plus_position == -1 and minus_position == -1:\n",
    "            convert =  int(s)\n",
    "            return convert\n",
    "      else:\n",
    "            if plus_position != -1:\n",
    "                  convert = int(s[0:plus_position])\n",
    "                  return convert\n",
    "            if minus_position != -1:\n",
    "                  convert = int(s[0:minus_position])\n",
    "                  return convert\n"
   ]
  },
  {
   "cell_type": "code",
   "execution_count": 39,
   "metadata": {},
   "outputs": [],
   "source": [
    "for i,val in enumerate(df_pos_columns):\n",
    "    df[val] = df[val].apply(solve_position_equation)"
   ]
  },
  {
   "cell_type": "markdown",
   "metadata": {},
   "source": [
    "Veryfying if the data of positions is now as integer"
   ]
  },
  {
   "cell_type": "code",
   "execution_count": 40,
   "metadata": {},
   "outputs": [
    {
     "name": "stdout",
     "output_type": "stream",
     "text": [
      "<class 'pandas.core.frame.DataFrame'>\n",
      "Int64Index: 140204 entries, 0 to 142100\n",
      "Data columns (total 27 columns):\n",
      " #   Column  Non-Null Count   Dtype\n",
      "---  ------  --------------   -----\n",
      " 0   ls      140204 non-null  int64\n",
      " 1   st      140204 non-null  int64\n",
      " 2   rs      140204 non-null  int64\n",
      " 3   lw      140204 non-null  int64\n",
      " 4   lf      140204 non-null  int64\n",
      " 5   cf      140204 non-null  int64\n",
      " 6   rf      140204 non-null  int64\n",
      " 7   rw      140204 non-null  int64\n",
      " 8   lam     140204 non-null  int64\n",
      " 9   cam     140204 non-null  int64\n",
      " 10  ram     140204 non-null  int64\n",
      " 11  lm      140204 non-null  int64\n",
      " 12  lcm     140204 non-null  int64\n",
      " 13  cm      140204 non-null  int64\n",
      " 14  rcm     140204 non-null  int64\n",
      " 15  rm      140204 non-null  int64\n",
      " 16  lwb     140204 non-null  int64\n",
      " 17  ldm     140204 non-null  int64\n",
      " 18  cdm     140204 non-null  int64\n",
      " 19  rdm     140204 non-null  int64\n",
      " 20  rwb     140204 non-null  int64\n",
      " 21  lb      140204 non-null  int64\n",
      " 22  lcb     140204 non-null  int64\n",
      " 23  cb      140204 non-null  int64\n",
      " 24  rcb     140204 non-null  int64\n",
      " 25  rb      140204 non-null  int64\n",
      " 26  gk      140204 non-null  int64\n",
      "dtypes: int64(27)\n",
      "memory usage: 30.0 MB\n"
     ]
    }
   ],
   "source": [
    "df[df_pos_columns].info()"
   ]
  },
  {
   "cell_type": "markdown",
   "metadata": {},
   "source": [
    "# **Data Analysis**"
   ]
  },
  {
   "cell_type": "markdown",
   "metadata": {},
   "source": [
    "## **Most Paid Players by Year**"
   ]
  },
  {
   "cell_type": "markdown",
   "metadata": {},
   "source": [
    "Creating a unique dataframe for each  year and getting the max values for each year , then concatenating all the dataframes and plotting the barchart"
   ]
  },
  {
   "cell_type": "code",
   "execution_count": 41,
   "metadata": {},
   "outputs": [],
   "source": [
    "fifa_15 = df.loc[df['year']==2015]\n",
    "fifa_16 = df.loc[df['year']==2016]\n",
    "fifa_17 = df.loc[df['year']==2017]\n",
    "fifa_18 = df.loc[df['year']==2018]\n",
    "fifa_19 = df.loc[df['year']==2019]\n",
    "fifa_20 = df.loc[df['year']==2020]\n",
    "fifa_21 = df.loc[df['year']==2021]\n",
    "fifa_22 = df.loc[df['year']==2022]\n",
    "\n",
    "fifa_15 = fifa_15[fifa_15['wage_eur']==fifa_15['wage_eur'].max()]\n",
    "fifa_16 = fifa_16[fifa_16['wage_eur']==fifa_16['wage_eur'].max()]\n",
    "fifa_17 = fifa_17[fifa_17['wage_eur']==fifa_17['wage_eur'].max()]\n",
    "fifa_18 = fifa_18[fifa_18['wage_eur']==fifa_18['wage_eur'].max()]\n",
    "fifa_19 = fifa_19[fifa_19['wage_eur']==fifa_19['wage_eur'].max()]\n",
    "fifa_20 = fifa_20[fifa_20['wage_eur']==fifa_20['wage_eur'].max()]\n",
    "fifa_21 = fifa_21[fifa_21['wage_eur']==fifa_21['wage_eur'].max()]\n",
    "fifa_22 = fifa_22[fifa_22['wage_eur']==fifa_22['wage_eur'].max()]\n",
    "\n",
    "fifa_15 = fifa_15[['short_name','year','wage_eur','value_eur']]\n",
    "fifa_16 = fifa_16[['short_name','year','wage_eur','value_eur']]\n",
    "fifa_17 = fifa_17[['short_name','year','wage_eur','value_eur']]\n",
    "fifa_18 = fifa_18[['short_name','year','wage_eur','value_eur']]\n",
    "fifa_19 = fifa_19[['short_name','year','wage_eur','value_eur']]\n",
    "fifa_20 = fifa_20[['short_name','year','wage_eur','value_eur']]\n",
    "fifa_21 = fifa_21[['short_name','year','wage_eur','value_eur']]\n",
    "fifa_22 = fifa_22[['short_name','year','wage_eur','value_eur']]\n",
    "\n",
    "fifa_wage_data = [fifa_15, fifa_16, fifa_17, fifa_18, fifa_19,fifa_20,fifa_21,fifa_22]\n",
    "\n",
    "fifa_wage_year = pd.concat(fifa_wage_data)\n",
    "fifa_wage_year =fifa_wage_year.reset_index()"
   ]
  },
  {
   "cell_type": "markdown",
   "metadata": {},
   "source": [
    "Seeing as a table"
   ]
  },
  {
   "cell_type": "code",
   "execution_count": 42,
   "metadata": {},
   "outputs": [
    {
     "data": {
      "text/html": [
       "<div>\n",
       "<style scoped>\n",
       "    .dataframe tbody tr th:only-of-type {\n",
       "        vertical-align: middle;\n",
       "    }\n",
       "\n",
       "    .dataframe tbody tr th {\n",
       "        vertical-align: top;\n",
       "    }\n",
       "\n",
       "    .dataframe thead th {\n",
       "        text-align: right;\n",
       "    }\n",
       "</style>\n",
       "<table border=\"1\" class=\"dataframe\">\n",
       "  <thead>\n",
       "    <tr style=\"text-align: right;\">\n",
       "      <th></th>\n",
       "      <th>index</th>\n",
       "      <th>short_name</th>\n",
       "      <th>year</th>\n",
       "      <th>wage_eur</th>\n",
       "      <th>value_eur</th>\n",
       "    </tr>\n",
       "  </thead>\n",
       "  <tbody>\n",
       "    <tr>\n",
       "      <th>0</th>\n",
       "      <td>125946</td>\n",
       "      <td>L. Messi</td>\n",
       "      <td>2015</td>\n",
       "      <td>550000.0</td>\n",
       "      <td>100500000.0</td>\n",
       "    </tr>\n",
       "    <tr>\n",
       "      <th>1</th>\n",
       "      <td>110323</td>\n",
       "      <td>L. Messi</td>\n",
       "      <td>2016</td>\n",
       "      <td>550000.0</td>\n",
       "      <td>111000000.0</td>\n",
       "    </tr>\n",
       "    <tr>\n",
       "      <th>2</th>\n",
       "      <td>92727</td>\n",
       "      <td>Cristiano Ronaldo</td>\n",
       "      <td>2017</td>\n",
       "      <td>575000.0</td>\n",
       "      <td>87000000.0</td>\n",
       "    </tr>\n",
       "    <tr>\n",
       "      <th>3</th>\n",
       "      <td>92728</td>\n",
       "      <td>L. Messi</td>\n",
       "      <td>2017</td>\n",
       "      <td>575000.0</td>\n",
       "      <td>89000000.0</td>\n",
       "    </tr>\n",
       "    <tr>\n",
       "      <th>4</th>\n",
       "      <td>74773</td>\n",
       "      <td>Cristiano Ronaldo</td>\n",
       "      <td>2018</td>\n",
       "      <td>575000.0</td>\n",
       "      <td>95500000.0</td>\n",
       "    </tr>\n",
       "    <tr>\n",
       "      <th>5</th>\n",
       "      <td>74774</td>\n",
       "      <td>L. Messi</td>\n",
       "      <td>2018</td>\n",
       "      <td>575000.0</td>\n",
       "      <td>105000000.0</td>\n",
       "    </tr>\n",
       "    <tr>\n",
       "      <th>6</th>\n",
       "      <td>56689</td>\n",
       "      <td>L. Messi</td>\n",
       "      <td>2019</td>\n",
       "      <td>575000.0</td>\n",
       "      <td>110500000.0</td>\n",
       "    </tr>\n",
       "    <tr>\n",
       "      <th>7</th>\n",
       "      <td>38183</td>\n",
       "      <td>L. Messi</td>\n",
       "      <td>2020</td>\n",
       "      <td>560000.0</td>\n",
       "      <td>95500000.0</td>\n",
       "    </tr>\n",
       "    <tr>\n",
       "      <th>8</th>\n",
       "      <td>38192</td>\n",
       "      <td>L. Messi</td>\n",
       "      <td>2020</td>\n",
       "      <td>560000.0</td>\n",
       "      <td>95500000.0</td>\n",
       "    </tr>\n",
       "    <tr>\n",
       "      <th>9</th>\n",
       "      <td>19239</td>\n",
       "      <td>L. Messi</td>\n",
       "      <td>2021</td>\n",
       "      <td>560000.0</td>\n",
       "      <td>103500000.0</td>\n",
       "    </tr>\n",
       "    <tr>\n",
       "      <th>10</th>\n",
       "      <td>4</td>\n",
       "      <td>K. De Bruyne</td>\n",
       "      <td>2022</td>\n",
       "      <td>350000.0</td>\n",
       "      <td>125500000.0</td>\n",
       "    </tr>\n",
       "    <tr>\n",
       "      <th>11</th>\n",
       "      <td>11</td>\n",
       "      <td>K. Benzema</td>\n",
       "      <td>2022</td>\n",
       "      <td>350000.0</td>\n",
       "      <td>66000000.0</td>\n",
       "    </tr>\n",
       "  </tbody>\n",
       "</table>\n",
       "</div>"
      ],
      "text/plain": [
       "     index         short_name  year  wage_eur    value_eur\n",
       "0   125946           L. Messi  2015  550000.0  100500000.0\n",
       "1   110323           L. Messi  2016  550000.0  111000000.0\n",
       "2    92727  Cristiano Ronaldo  2017  575000.0   87000000.0\n",
       "3    92728           L. Messi  2017  575000.0   89000000.0\n",
       "4    74773  Cristiano Ronaldo  2018  575000.0   95500000.0\n",
       "5    74774           L. Messi  2018  575000.0  105000000.0\n",
       "6    56689           L. Messi  2019  575000.0  110500000.0\n",
       "7    38183           L. Messi  2020  560000.0   95500000.0\n",
       "8    38192           L. Messi  2020  560000.0   95500000.0\n",
       "9    19239           L. Messi  2021  560000.0  103500000.0\n",
       "10       4       K. De Bruyne  2022  350000.0  125500000.0\n",
       "11      11         K. Benzema  2022  350000.0   66000000.0"
      ]
     },
     "execution_count": 42,
     "metadata": {},
     "output_type": "execute_result"
    }
   ],
   "source": [
    "fifa_wage_year"
   ]
  },
  {
   "cell_type": "markdown",
   "metadata": {},
   "source": [
    "We can see here that untill 2021 **L.Messi** (tied with C. Ronaldo in 2017 and 2018) have been the most paid player in the game, that change in 2022 with L.Messi transfer to PSG. leaving **Benzema** and **de Bruyne** with the highest wages in the game"
   ]
  },
  {
   "cell_type": "code",
   "execution_count": 43,
   "metadata": {},
   "outputs": [
    {
     "data": {
      "text/plain": [
       "<AxesSubplot:xlabel='year', ylabel='wage_eur'>"
      ]
     },
     "execution_count": 43,
     "metadata": {},
     "output_type": "execute_result"
    },
    {
     "data": {
      "image/png": "[encoded data removed]",
      "text/plain": [
       "<Figure size 1080x504 with 1 Axes>"
      ]
     },
     "metadata": {
      "needs_background": "light"
     },
     "output_type": "display_data"
    }
   ],
   "source": [
    "plt.figure(figsize=(15,7))\n",
    "sns.barplot(x='year',y='wage_eur',hue='short_name', data=fifa_wage_year,palette =\"mako\")"
   ]
  },
  {
   "cell_type": "markdown",
   "metadata": {},
   "source": [
    "## **Wage vs Value Relation**"
   ]
  },
  {
   "cell_type": "markdown",
   "metadata": {},
   "source": [
    "The Pearson product-moment correlation coefficient (PPMCC), the bivariate correlation,or colloquially simply as the correlation coefficient― is a measure of linear correlation between two sets of data. It is the ratio between the covariance of two variables and the product of their standard deviations; thus it is essentially a normalized measurement of the covariance, such that the result always has a value between −1 and 1. As with covariance itself, the measure can only reflect a linear correlation of variables."
   ]
  },
  {
   "cell_type": "code",
   "execution_count": 44,
   "metadata": {},
   "outputs": [
    {
     "data": {
      "text/plain": [
       "(0.7854100027373181, 0.0)"
      ]
     },
     "execution_count": 44,
     "metadata": {},
     "output_type": "execute_result"
    }
   ],
   "source": [
    "stats.pearsonr(df['value_eur'], df['wage_eur'])"
   ]
  },
  {
   "cell_type": "markdown",
   "metadata": {},
   "source": [
    "Looking at the Pearson Correlation and as expected we can see that **value of a player is directed correlated with it's wage**"
   ]
  },
  {
   "cell_type": "code",
   "execution_count": 45,
   "metadata": {},
   "outputs": [
    {
     "data": {
      "text/plain": [
       "<seaborn.axisgrid.FacetGrid at 0x25ebd1701f0>"
      ]
     },
     "execution_count": 45,
     "metadata": {},
     "output_type": "execute_result"
    },
    {
     "data": {
      "image/png": "[encoded data removed]",
      "text/plain": [
       "<Figure size 408.75x360 with 1 Axes>"
      ]
     },
     "metadata": {
      "needs_background": "light"
     },
     "output_type": "display_data"
    }
   ],
   "source": [
    "sns.relplot(x='value_eur',y='wage_eur', palette = 'mako',data=df, hue = df.age)"
   ]
  },
  {
   "cell_type": "markdown",
   "metadata": {},
   "source": [
    "## **Histogram of Wages in Fifa**"
   ]
  },
  {
   "cell_type": "markdown",
   "metadata": {},
   "source": [
    "Here I'm plotting only the wages greater than 50k to better visualtiation  but the behavior is similar with the whole dataset. to sum up we have  very few players earning more than  50k  and most of the players (77% aproximately) earn between 0 and 10k"
   ]
  },
  {
   "cell_type": "code",
   "execution_count": 46,
   "metadata": {
    "azdata_cell_guid": "ce937435-f299-4419-aa70-76ddd03d2e94"
   },
   "outputs": [
    {
     "data": {
      "text/plain": [
       "<AxesSubplot:xlabel='wage_eur', ylabel='Count'>"
      ]
     },
     "execution_count": 46,
     "metadata": {},
     "output_type": "execute_result"
    },
    {
     "data": {
      "image/png": "[encoded data removed]",
      "text/plain": [
       "<Figure size 1440x1080 with 1 Axes>"
      ]
     },
     "metadata": {
      "needs_background": "light"
     },
     "output_type": "display_data"
    }
   ],
   "source": [
    "plt.figure(figsize=(20,15))\n",
    "sns.histplot(data = df.loc[df['wage_eur']>=50000], x= 'wage_eur',kde = True, hue='year', palette = 'bright' )"
   ]
  },
  {
   "cell_type": "markdown",
   "metadata": {},
   "source": [
    "## Range of Wages"
   ]
  },
  {
   "cell_type": "markdown",
   "metadata": {},
   "source": [
    "**77.4%** of players a have wage between 0 and 10k"
   ]
  },
  {
   "cell_type": "code",
   "execution_count": 47,
   "metadata": {},
   "outputs": [
    {
     "data": {
      "text/plain": [
       "77.42575104847222"
      ]
     },
     "execution_count": 47,
     "metadata": {},
     "output_type": "execute_result"
    }
   ],
   "source": [
    "# 0 - 10k\n",
    "df['wage_eur'].loc[(df['wage_eur']>0)&(df['wage_eur']<=10000)].count()/df['wage_eur'].count()*100\n"
   ]
  },
  {
   "cell_type": "markdown",
   "metadata": {},
   "source": [
    "**18.7%** of players have a wage between 10k and 50k"
   ]
  },
  {
   "cell_type": "code",
   "execution_count": 48,
   "metadata": {
    "azdata_cell_guid": "f436b6f9-4baa-476d-828e-e639a1c1e6d3",
    "tags": [
     "hide_input"
    ]
   },
   "outputs": [
    {
     "data": {
      "text/plain": [
       "18.666371858149553"
      ]
     },
     "execution_count": 48,
     "metadata": {},
     "output_type": "execute_result"
    }
   ],
   "source": [
    "# 10 - 50k\n",
    "df['wage_eur'].loc[(df['wage_eur']>10000)&(df['wage_eur']<=50000)].count()/df['wage_eur'].count()*100\n"
   ]
  },
  {
   "cell_type": "markdown",
   "metadata": {},
   "source": [
    "Only **3.9%** of players have a wage greater than 50k"
   ]
  },
  {
   "cell_type": "code",
   "execution_count": 49,
   "metadata": {
    "azdata_cell_guid": "7b3e0ad7-c85a-4af5-950b-0b23b96f6ce4"
   },
   "outputs": [
    {
     "data": {
      "text/plain": [
       "3.9078770933782203"
      ]
     },
     "execution_count": 49,
     "metadata": {},
     "output_type": "execute_result"
    }
   ],
   "source": [
    "## >50k\n",
    "df['wage_eur'].loc[df['wage_eur']>50000].count()/df['wage_eur'].count()*100"
   ]
  },
  {
   "cell_type": "markdown",
   "metadata": {
    "azdata_cell_guid": "e08c7372-96ed-48b3-92e3-e58162e3efcf"
   },
   "source": [
    "## Looking for Correlations - Corr_Matrix - Wages\n"
   ]
  },
  {
   "cell_type": "markdown",
   "metadata": {
    "azdata_cell_guid": "4afe30ba-a284-4995-a7ab-8f8f1ab6f4da",
    "tags": [
     "hide_input"
    ]
   },
   "source": [
    "Let’s look on how much each of our attributes correlate with the wages of the players"
   ]
  },
  {
   "cell_type": "code",
   "execution_count": 50,
   "metadata": {
    "azdata_cell_guid": "bc087d81-0e6b-4588-8e37-15fa44e5c98a"
   },
   "outputs": [
    {
     "data": {
      "text/plain": [
       "wage_eur                    1.000000\n",
       "value_eur                   0.785410\n",
       "international_reputation    0.689486\n",
       "overall                     0.611765\n",
       "movement_reactions          0.534837\n",
       "                              ...   \n",
       "goalkeeping_reflexes       -0.019407\n",
       "goalkeeping_kicking        -0.021078\n",
       "year                       -0.084029\n",
       "league_level               -0.132497\n",
       "club_team_id               -0.204001\n",
       "Name: wage_eur, Length: 79, dtype: float64"
      ]
     },
     "execution_count": 50,
     "metadata": {},
     "output_type": "execute_result"
    }
   ],
   "source": [
    "corr_matrix = df.corr()\n",
    "corr_matrix[\"wage_eur\"].sort_values(ascending=False)"
   ]
  },
  {
   "cell_type": "markdown",
   "metadata": {},
   "source": [
    "**Strong Positive Correlation (>= 0.75)**"
   ]
  },
  {
   "cell_type": "markdown",
   "metadata": {},
   "source": [
    "- The wage_eur value tends to go up when the **value_eur** goes up"
   ]
  },
  {
   "cell_type": "code",
   "execution_count": 51,
   "metadata": {},
   "outputs": [
    {
     "data": {
      "text/plain": [
       "wage_eur     1.00000\n",
       "value_eur    0.78541\n",
       "Name: wage_eur, dtype: float64"
      ]
     },
     "execution_count": 51,
     "metadata": {},
     "output_type": "execute_result"
    }
   ],
   "source": [
    "corr_matrix[\"wage_eur\"].loc[corr_matrix[\"wage_eur\"]>= 0.75].sort_values(ascending=False)"
   ]
  },
  {
   "cell_type": "markdown",
   "metadata": {},
   "source": [
    "**Moderate Positive Correlation(>= 0.6 and <=0.75)**\n"
   ]
  },
  {
   "cell_type": "markdown",
   "metadata": {},
   "source": [
    "We can see a moderate positive correlation with the following attributes"
   ]
  },
  {
   "cell_type": "markdown",
   "metadata": {},
   "source": [
    "- international_reputation\n",
    "- overall"
   ]
  },
  {
   "cell_type": "code",
   "execution_count": 52,
   "metadata": {},
   "outputs": [
    {
     "data": {
      "text/plain": [
       "international_reputation    0.689486\n",
       "overall                     0.611765\n",
       "Name: wage_eur, dtype: float64"
      ]
     },
     "execution_count": 52,
     "metadata": {},
     "output_type": "execute_result"
    }
   ],
   "source": [
    "corr_matrix[\"wage_eur\"].loc[(corr_matrix[\"wage_eur\"]>= 0.6)&(corr_matrix[\"wage_eur\"]< 0.75)].sort_values(ascending=False)"
   ]
  },
  {
   "cell_type": "markdown",
   "metadata": {},
   "source": [
    "**Weakly Negative Correlation (<0)**"
   ]
  },
  {
   "cell_type": "markdown",
   "metadata": {},
   "source": [
    "wage_eur tends to go down when the **league_level** go down"
   ]
  },
  {
   "cell_type": "code",
   "execution_count": 53,
   "metadata": {},
   "outputs": [
    {
     "data": {
      "text/plain": [
       "club_team_id              -0.204001\n",
       "league_level              -0.132497\n",
       "year                      -0.084029\n",
       "goalkeeping_kicking       -0.021078\n",
       "goalkeeping_reflexes      -0.019407\n",
       "goalkeeping_diving        -0.019149\n",
       "goalkeeping_handling      -0.018883\n",
       "goalkeeping_positioning   -0.017592\n",
       "Name: wage_eur, dtype: float64"
      ]
     },
     "execution_count": 53,
     "metadata": {},
     "output_type": "execute_result"
    }
   ],
   "source": [
    "corr_matrix[\"wage_eur\"].loc[corr_matrix[\"wage_eur\"]< 0].sort_values(ascending=True)"
   ]
  },
  {
   "cell_type": "markdown",
   "metadata": {},
   "source": [
    "## Looking for Correlations - Scatter Matrix"
   ]
  },
  {
   "cell_type": "markdown",
   "metadata": {},
   "source": [
    "Let’s just focus on a few **promising attributes**  here I am disconsidering the value because it is conected with the wage but not in an explanatory way"
   ]
  },
  {
   "cell_type": "code",
   "execution_count": 54,
   "metadata": {},
   "outputs": [
    {
     "data": {
      "image/png": "[encoded data removed]",
      "text/plain": [
       "<Figure size 864x576 with 9 Axes>"
      ]
     },
     "metadata": {
      "needs_background": "light"
     },
     "output_type": "display_data"
    }
   ],
   "source": [
    "from pandas.plotting import scatter_matrix\n",
    "attributes = ['wage_eur','international_reputation','overall']\n",
    "scatter_matrix(df[attributes], figsize=(12, 8))\n",
    "\n",
    "plt.show()\n"
   ]
  },
  {
   "cell_type": "markdown",
   "metadata": {},
   "source": [
    "it seems that the better of all of the attributes to describe wage is\n",
    "- overall"
   ]
  }
 ],
 "metadata": {
  "extensions": {
   "azuredatastudio": {
    "version": 1,
    "views": []
   }
  },
  "kernelspec": {
   "display_name": "Python 3",
   "language": "python",
   "name": "python3"
  },
  "language_info": {
   "codemirror_mode": {
    "name": "ipython",
    "version": 3
   },
   "file_extension": ".py",
   "mimetype": "text/x-python",
   "name": "python",
   "nbconvert_exporter": "python",
   "pygments_lexer": "ipython3",
   "version": "3.8.8"
  }
 },
 "nbformat": 4,
 "nbformat_minor": 2
}
